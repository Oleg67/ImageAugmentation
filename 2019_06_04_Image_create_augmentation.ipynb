{
 "cells": [
  {
   "cell_type": "markdown",
   "metadata": {},
   "source": [
    "### Apply the augmentation to the images and write the results as new images"
   ]
  },
  {
   "cell_type": "code",
   "execution_count": 1,
   "metadata": {},
   "outputs": [],
   "source": [
    "import augmentation as am\n",
    "import cv2\n",
    "import os\n",
    "from tqdm import tqdm\n",
    "import datetime\n",
    "import numpy as np\n",
    "\n",
    "class ImageAugmentationRandom():\n",
    "    \"\"\"\n",
    "    serve to create augmentation images\n",
    "    \"\"\"\n",
    "    \n",
    "        \n",
    "    def __init__(self, **kwards):\n",
    "        \"\"\"\n",
    "        method from {'square', 'line', 'snow', 'rain', 'fog', 'shadow'} or list of them\n",
    "        \"\"\"\n",
    "        augmentation = ['square', 'line'] #, 'snow', 'fog', 'rain']\n",
    "        \n",
    "        for k in kwards:\n",
    "            self.__dict__[k] = kwards[k]\n",
    "        \n",
    "        if type(self.method) is not list:\n",
    "            self.method = [self.method]\n",
    "        for ag in self.method:\n",
    "            assert ag in augmentation, 'method must be from  {square, line, snow, rain, fog} or list of them'\n",
    "            \n",
    "    def _get_df(self, input_dir):\n",
    "        \"\"\"\n",
    "        create a DataFrame of all images' paths and lables  for all subfolders in the folder\n",
    "        \"\"\"\n",
    "        self.imput_dir = input_dir\n",
    "        fd_list = []\n",
    "\n",
    "        if not self.all_dir(input_dir):\n",
    "        # add to the list only files not dir\n",
    "            return sorted(list(map(lambda x: os.path.join(input_dir, x), os.listdir(input_dir))))\n",
    "\n",
    "        for fd in os.listdir(input_dir):\n",
    "            path = os.path.join(os.getcwd(), input_dir, fd)\n",
    "            fd_list += self.get_list_of_images_path(path)\n",
    "\n",
    "        lables = list(map(lambda x: x.split(input_dir +'/')[-1].split('/')[0], fd_list))\n",
    "\n",
    "        self.f_list = fd_list\n",
    "        self.lables = lables\n",
    "\n",
    "        return \n",
    "    \n",
    "    def get_list_of_images_path(self, folder):\n",
    "        \"\"\"\n",
    "        create a list of all images' paths  for all subfolders in the folder\n",
    "        \"\"\"\n",
    "        fd_list = []\n",
    "        if not self.all_dir(folder):\n",
    "        # add to the list only files not dir\n",
    "            return sorted(list(map(lambda x: os.path.join(folder, x), os.listdir(folder))))\n",
    "\n",
    "        for fd in os.listdir(folder):\n",
    "            path = os.path.join(os.getcwd(), folder, fd)\n",
    "            fd_list += get_list_of_images_path(path)\n",
    "\n",
    "        return fd_list\n",
    "    \n",
    "    def all_dir(self, folder):\n",
    "        \"\"\"\n",
    "        serve to check all filenames in folder is dir\n",
    "        \"\"\"\n",
    "        flag = True\n",
    "        if os.path.isdir(folder):\n",
    "            for f in os.listdir(folder):\n",
    "                flag = flag & os.path.isdir(os.path.join(folder,f))\n",
    "        else:\n",
    "            flag = False\n",
    "\n",
    "        return flag \n",
    "    \n",
    "    \n",
    "\n",
    "    def apply(self, input_dir, name=None):\n",
    "        \n",
    "        self._get_df(input_dir)\n",
    "        _dir = os.path.dirname(input_dir)\n",
    "        output_dir = 'augment_' + os.path.basename(input_dir)\n",
    "        if not name:\n",
    "            self.output_dir = os.path.join(_dir, output_dir, datetime.datetime.now().strftime('%Y_%m_%d_%H_%M'))\n",
    "        else:\n",
    "            self.output_dir = os.path.join(_dir, output_dir, datetime.datetime.now().strftime('%Y_%m_%d_%H_%M')\n",
    "                                          + '_'+ name)\n",
    "        if not os.path.exists(self.output_dir):\n",
    "            os.makedirs(self.output_dir)\n",
    "            \n",
    "        n =0 \n",
    "        for input_path, lable in tqdm(zip(self.f_list, self.lables)):\n",
    "            \n",
    "            img = cv2.imread(input_path)\n",
    "            \n",
    "            _outpath = os.path.join(self.output_dir, lable)\n",
    "            if not os.path.exists(_outpath):\n",
    "                os.makedirs(_outpath)\n",
    "            \n",
    "            outpath = os.path.join(_outpath,  os.path.basename(input_path))               \n",
    "            cv2.imwrite(outpath, img)\n",
    "            n +=1\n",
    "            \n",
    "            for m in self.method:\n",
    "                if m == 'square':\n",
    "                    for i in range(self.N): # number of multiply the image\n",
    "                        \n",
    "                        size, sq, _, color = self._get_random_parameters()\n",
    "                        mask = am.get_mask(m, size, sq)(img.shape)\n",
    "                        \n",
    "                        outpath = os.path.join(_outpath,\n",
    "                            os.path.basename(input_path).split('.jpg')[0]+ '_{}_{}.jpg'.format(m, i))\n",
    "                           \n",
    "                        cv2.imwrite(outpath, am.mask_to_image(img, mask, color))\n",
    "                        n +=1\n",
    "                        \n",
    "                elif m == 'line':\n",
    "                    for i in range(self.N//3):\n",
    "                           \n",
    "                        size, _, ax, color = self._get_random_parameters()\n",
    "                        mask = am.get_mask(m, size, ax, axes=ax)(img.shape)\n",
    "\n",
    "                        outpath = os.path.join(_outpath,\n",
    "                            os.path.basename(input_path).split('.jpg')[0]+ '_{}_{}.jpg'.format(m, i))\n",
    "                        cv2.imwrite(outpath, am.mask_to_image(img, mask, color))\n",
    "                        n +=1\n",
    "                        \n",
    "        return print(n, 'Images was created')\n",
    "\n",
    "    def _get_random_parameters(self):\n",
    "        sq = np.random.randint(self.sq_size[0], self.sq_size[1]+1) \n",
    "        size = np.random.uniform(high=self.size)\n",
    "        ax = np.random.choice([0,1])\n",
    "        color = np.random.randint(190, 256, size=3)\n",
    "        return size, sq, ax, color"
   ]
  },
  {
   "cell_type": "code",
   "execution_count": 2,
   "metadata": {},
   "outputs": [],
   "source": [
    "ag = ImageAugmentationRandom(method='square', sq_size=[2, 80], N = 2, size=0.05, color={'white':[200,200,200]})\n"
   ]
  },
  {
   "cell_type": "code",
   "execution_count": 3,
   "metadata": {},
   "outputs": [
    {
     "data": {
      "text/plain": [
       "{'method': ['square'],\n",
       " 'sq_size': [2, 80],\n",
       " 'N': 2,\n",
       " 'size': 0.05,\n",
       " 'color': {'white': [200, 200, 200]}}"
      ]
     },
     "execution_count": 3,
     "metadata": {},
     "output_type": "execute_result"
    }
   ],
   "source": [
    "ag.__dict__"
   ]
  },
  {
   "cell_type": "code",
   "execution_count": 4,
   "metadata": {},
   "outputs": [
    {
     "name": "stderr",
     "output_type": "stream",
     "text": [
      "2430it [19:40,  2.22it/s]"
     ]
    },
    {
     "name": "stdout",
     "output_type": "stream",
     "text": [
      "7290 Images was created\n"
     ]
    },
    {
     "name": "stderr",
     "output_type": "stream",
     "text": [
      "\n"
     ]
    }
   ],
   "source": [
    "ag.apply('Dolby/balanced_old_810', 'white_squares')"
   ]
  },
  {
   "cell_type": "code",
   "execution_count": null,
   "metadata": {},
   "outputs": [],
   "source": [
    "ag.method = 'square'\n",
    "if type(ag.method) is not list:\n",
    "    ag.method = [ag.method]\n",
    "ag.method"
   ]
  },
  {
   "cell_type": "code",
   "execution_count": null,
   "metadata": {},
   "outputs": [],
   "source": [
    "os.path.basename('balanced_old_810')"
   ]
  },
  {
   "cell_type": "code",
   "execution_count": null,
   "metadata": {},
   "outputs": [],
   "source": [
    "al.replace('balanced_old_810', 'augment_balanced_old_810')"
   ]
  },
  {
   "cell_type": "code",
   "execution_count": null,
   "metadata": {
    "scrolled": true
   },
   "outputs": [],
   "source": [
    "\n",
    "methods = ['square']\n",
    "sq_size = [3, 10]\n",
    "N = 2\n",
    "size = 0.03\n",
    "import time\n",
    "time0 = time.time()\n",
    "n_img = 1 \n",
    "\n",
    "for input_path in tqdm(df['filename'].values):\n",
    "    img = cv2.imread(input_path)\n",
    "    n  =0\n",
    "    for m in methods:\n",
    "        if m == 'square':\n",
    "            for sq in sq_size:\n",
    "                for i in range(N):\n",
    "                    mask = get_mask(m, size, sq)(img.shape)\n",
    "                    for clr in color:\n",
    "                        n +=1\n",
    "                        outpath = os.path.join(os.path.dirname(input_path),\n",
    "                        os.path.basename(input_path).split('.jpg')[0]+ '_{}_{}_{}_{}.jpg'.format(m, sq, clr, i))\n",
    "                        #print ('write the image in ', outpath)\n",
    "                        cv2.imwrite(outpath, next(mask_to_image(img, mask, color[clr])))\n",
    "        else:\n",
    "            for ax in [0,1]:\n",
    "                mask = get_mask(m, size, 1, axes=ax)(img.shape)\n",
    "                for clr in color:\n",
    "                    n +=1\n",
    "                    outpath = os.path.join(os.path.dirname(input_path),\n",
    "                        os.path.basename(input_path).split('.jpg')[0]+ '_{}_{}_{}.jpg'.format(m, ax, clr))\n",
    "                    #print ('write the image in ', outpath)\n",
    "                    cv2.imwrite(outpath, next(mask_to_image(img, mask, color[clr])))\n",
    "    #print ('write the image {} time {}'.format( n_img, time.time() - time0))\n",
    "    n_img +=1"
   ]
  },
  {
   "cell_type": "code",
   "execution_count": null,
   "metadata": {},
   "outputs": [],
   "source": [
    "outpath, n"
   ]
  },
  {
   "cell_type": "code",
   "execution_count": null,
   "metadata": {},
   "outputs": [],
   "source": [
    "#df= get_DF_of_images_filenames_lables(images_path) # get the DataFrame with filenames and class \n",
    "\n",
    "target_dict = {k: v for v,k in enumerate(df['class'].unique())} # get the dictionary {label: class' number}\n",
    "\n",
    "ResNet = tf.keras.applications.InceptionV3(input_shape=(224,224,3), include_top=False) # load InceptionV3\n",
    "        \n",
    "    "
   ]
  },
  {
   "cell_type": "code",
   "execution_count": null,
   "metadata": {},
   "outputs": [],
   "source": [
    "features_tr = extract_features(ResNet, df['filename'].values)      # get feartures for training\n",
    "y_tr = tf.keras.utils.to_categorical(df['class'].map(target_dict)) # get labels for training"
   ]
  },
  {
   "cell_type": "code",
   "execution_count": null,
   "metadata": {},
   "outputs": [],
   "source": [
    "features_tr.shape, y_tr.shape"
   ]
  },
  {
   "cell_type": "code",
   "execution_count": null,
   "metadata": {},
   "outputs": [],
   "source": [
    "import tensorflow as tf\n",
    "from photo_utilits import get_DF_of_images_filenames_lables\n",
    "\n",
    "def extract_features_augmentation(frz_model, image_list, size, sq_sizes, colors, N, methods):\n",
    "    \"\"\"\n",
    "    extract features from images list use frz_model output\n",
    "    frz_model is the keras model that has the method predict\n",
    "    image_list is the list of images \n",
    "    size is the percent of random changed pixels\n",
    "    sq_sizes is the size of square that changing\n",
    "    colors is the list of colors that will be use in changed of square\n",
    "    N = is the number to apply the augmentation to the same image\n",
    "    methods is the list of augmantation methods \n",
    "    return features, number of augmentation for the image \n",
    "    \"\"\"\n",
    "    _, w,h,c = frz_model.input_shape # input of model\n",
    "    _, c1,c2,c3 = frz_model.output_shape # output of model\n",
    "    l = len(image_list) # number of images\n",
    "    \n",
    "    number_augmantations = len(sq_sizes)* len(colors)* len(metods)* N # number of augmantation for the image\n",
    "    #print (number_augmantations)\n",
    "    features = np.zeros((l+ l* number_augmantations, c1, c2, c3), dtype=np.float16)  # features tensor\n",
    "    n = 0\n",
    "    for i, img_path in tqdm(enumerate(image_list)):\n",
    "        try:\n",
    "            _img = tf.keras.preprocessing.image.load_img(img_path, target_size=(w,h)) #load images from image list he optimization \n",
    "        except OSError:\n",
    "            continue\n",
    "        img = tf.keras.preprocessing.image.img_to_array(_img) /255.  # image to array and normalize \n",
    "                                                           #the values of limits [0.1] to help optimize\n",
    "        \n",
    "        features[i + n] = frz_model.predict(img[np.newaxis,:,:,:]) # extract features from the last layer of the model\n",
    "        print('*', i+n, i, n )\n",
    "        for m in methods:\n",
    "            if m == 'square':\n",
    "                for sq in sq_sizes:\n",
    "                    for _ in range(N):\n",
    "                        mask = get_mask(m, size, sq)(img.shape) # get the mask of replacing \n",
    "                        for clr in color:\n",
    "                            n +=1\n",
    "                            # apply mask to the image with color = clr\n",
    "                            img = next(mask_to_image(_img, mask, clr))/255. # normalize /255 to help the optimization\n",
    "                            features[i + n ] = frz_model.predict(img[np.newaxis,:,:,:]) # extract features from the last layer of the model\n",
    "                            print(i+n, i, n )            \n",
    "            else:\n",
    "                for ax in [0,1]:\n",
    "                    mask = get_mask(m, size, 1, axes=ax)(img.shape)\n",
    "                    for clr in color:\n",
    "                        n +=1\n",
    "                        img = next(mask_to_image(_img, mask, clr))/255. # normalize to hepl the optimization\n",
    "                        features[i + n ] = frz_model.predict(img[np.newaxis,:,:,:]) # extract features from the last layer of the model\n",
    "            \n",
    "                    \n",
    "    return features, number_augmantations"
   ]
  },
  {
   "cell_type": "code",
   "execution_count": null,
   "metadata": {},
   "outputs": [],
   "source": [
    "features, N = extract_features_augmentation(ResNet, df['filename'].values, 0.03, [3, 10], color, 3, ['square'] )"
   ]
  },
  {
   "cell_type": "code",
   "execution_count": null,
   "metadata": {},
   "outputs": [],
   "source": [
    "y_tr = tf.keras.utils.to_categorical(df['class'].map(target_dict)) # get labels for training\n",
    "yy_tr = np.repeat(y_tr, N+1, axis=0)"
   ]
  },
  {
   "cell_type": "code",
   "execution_count": null,
   "metadata": {},
   "outputs": [],
   "source": [
    "yy_tr.shape, features.shape"
   ]
  },
  {
   "cell_type": "code",
   "execution_count": null,
   "metadata": {},
   "outputs": [],
   "source": []
  }
 ],
 "metadata": {
  "kernelspec": {
   "display_name": "Python 3",
   "language": "python",
   "name": "python3"
  },
  "language_info": {
   "codemirror_mode": {
    "name": "ipython",
    "version": 3
   },
   "file_extension": ".py",
   "mimetype": "text/x-python",
   "name": "python",
   "nbconvert_exporter": "python",
   "pygments_lexer": "ipython3",
   "version": "3.6.8"
  }
 },
 "nbformat": 4,
 "nbformat_minor": 2
}
