{
 "cells": [
  {
   "cell_type": "markdown",
   "metadata": {},
   "source": [
    "### Apply the augmentation to the images and write the results as new images"
   ]
  },
  {
   "cell_type": "code",
   "execution_count": null,
   "metadata": {},
   "outputs": [],
   "source": [
    "import augmentation as am\n",
    "import cv2\n",
    "import os\n",
    "from tqdm import tqdm\n",
    "import datetime\n",
    "import numpy as np\n",
    "\n",
    "class ImageAugmentationRandom():\n",
    "    \"\"\"\n",
    "    serve to create augmentation images\n",
    "    \"\"\"\n",
    "    \n",
    "        \n",
    "    def __init__(self, \n",
    "                 aug_functions = {'square': am.add_squares,\n",
    "                     'line': am.add_lines,\n",
    "                     'snow': am.add_snow,\n",
    "                     'fog': am.add_fog,\n",
    "                     'rain': am.add_rain,\n",
    "                     'shadow': am.add_shadow},\n",
    "                    **kwards):\n",
    "        \"\"\"\n",
    "        method from {'square', 'line', 'snow', 'rain', 'fog', 'shadow'} or list of them\n",
    "        \"\"\"\n",
    "        \n",
    "        self.aug_functions = aug_functions\n",
    "        \n",
    "        for k in kwards:\n",
    "            self.__dict__[k] = kwards[k]\n",
    "        \n",
    "        if type(self.method) is not list:\n",
    "            self.method = [self.method]\n",
    "        for ag in self.method:\n",
    "            assert ag in self.aug_functions, 'method must be from  {square, line, snow, rain, fog, shadow} or list of them'\n",
    "        \n",
    "        \n",
    "            \n",
    "    def _get_df(self, input_dir):\n",
    "        \"\"\"\n",
    "        create a DataFrame of all images' paths and lables  for all subfolders in the folder\n",
    "        \"\"\"\n",
    "        self.imput_dir = input_dir\n",
    "        fd_list = []\n",
    "\n",
    "        if not self.all_dir(input_dir):\n",
    "        # add to the list only files not dir\n",
    "            return sorted(list(map(lambda x: os.path.join(input_dir, x), os.listdir(input_dir))))\n",
    "\n",
    "        for fd in os.listdir(input_dir):\n",
    "            path = os.path.join(os.getcwd(), input_dir, fd)\n",
    "            fd_list += self.get_list_of_images_path(path)\n",
    "\n",
    "        lables = list(map(lambda x: x.split(input_dir +'/')[-1].split('/')[0], fd_list))\n",
    "\n",
    "        self.f_list = fd_list\n",
    "        self.lables = lables\n",
    "\n",
    "        return \n",
    "    \n",
    "    def get_list_of_images_path(self, folder):\n",
    "        \"\"\"\n",
    "        create a list of all images' paths  for all subfolders in the folder\n",
    "        \"\"\"\n",
    "        fd_list = []\n",
    "        if not self.all_dir(folder):\n",
    "        # add to the list only files not dir\n",
    "            return sorted(list(map(lambda x: os.path.join(folder, x), os.listdir(folder))))\n",
    "\n",
    "        for fd in os.listdir(folder):\n",
    "            path = os.path.join(os.getcwd(), folder, fd)\n",
    "            fd_list += get_list_of_images_path(path)\n",
    "\n",
    "        return fd_list\n",
    "    \n",
    "    def all_dir(self, folder):\n",
    "        \"\"\"\n",
    "        serve to check all filenames in folder is dir\n",
    "        \"\"\"\n",
    "        flag = True\n",
    "        if os.path.isdir(folder):\n",
    "            for f in os.listdir(folder):\n",
    "                flag = flag & os.path.isdir(os.path.join(folder,f))\n",
    "        else:\n",
    "            flag = False\n",
    "\n",
    "        return flag \n",
    "    \n",
    "    \n",
    "\n",
    "    def apply(self, input_dir, name=None):\n",
    "        \n",
    "        self._get_df(input_dir)\n",
    "        _dir = os.path.dirname(input_dir)\n",
    "        output_dir = 'augment_' + os.path.basename(input_dir)\n",
    "        if not name:\n",
    "            self.output_dir = os.path.join(_dir, output_dir, datetime.datetime.now().strftime('%Y_%m_%d_%H_%M'))\n",
    "        else:\n",
    "            self.output_dir = os.path.join(_dir, output_dir, datetime.datetime.now().strftime('%Y_%m_%d_%H_%M')\n",
    "                                          + '_'+ name)\n",
    "        if not os.path.exists(self.output_dir):\n",
    "            os.makedirs(self.output_dir)\n",
    "            \n",
    "        n =0 \n",
    "        for input_path, lable in tqdm(zip(self.f_list, self.lables)):\n",
    "            \n",
    "            img = cv2.imread(input_path)\n",
    "            \n",
    "            _outpath = os.path.join(self.output_dir, lable)\n",
    "            if not os.path.exists(_outpath):\n",
    "                os.makedirs(_outpath)\n",
    "            \n",
    "            outpath = os.path.join(_outpath,  os.path.basename(input_path))               \n",
    "            cv2.imwrite(outpath, img)\n",
    "            n +=1\n",
    "            \n",
    "            for m in self.method:\n",
    "                for i in range(self.N): # number of multiply the image\n",
    "                    out_img = self.aug_functions[m](img) # out_image\n",
    "                    \n",
    "                    outpath = os.path.join(_outpath,\n",
    "                            os.path.basename(input_path).split('.jpg')[0]+ '_{}_{}.jpg'.format(m, i))\n",
    "                            \n",
    "                    cv2.imwrite(outpath, out_img)\n",
    "                    n +=1\n",
    "                        \n",
    "                       \n",
    "        return print(n, 'Images was created in ', self.output_dir)"
   ]
  },
  {
   "cell_type": "code",
   "execution_count": null,
   "metadata": {},
   "outputs": [],
   "source": [
    "ag = ImageAugmentationRandom(method=['shadow'], N=3)\n"
   ]
  },
  {
   "cell_type": "code",
   "execution_count": null,
   "metadata": {},
   "outputs": [],
   "source": [
    "ag.__dict__"
   ]
  },
  {
   "cell_type": "code",
   "execution_count": null,
   "metadata": {},
   "outputs": [],
   "source": [
    "ag.apply('Dolby/balanced_old_810', 'shadow')"
   ]
  },
  {
   "cell_type": "code",
   "execution_count": null,
   "metadata": {},
   "outputs": [],
   "source": [
    "ag = ImageAugmentationRandom(method=['fog'], N=3)\n"
   ]
  },
  {
   "cell_type": "code",
   "execution_count": null,
   "metadata": {},
   "outputs": [],
   "source": [
    "ag.__dict__"
   ]
  },
  {
   "cell_type": "code",
   "execution_count": null,
   "metadata": {},
   "outputs": [],
   "source": [
    "ag.apply('Dolby/balanced_old_810', 'fog')"
   ]
  },
  {
   "cell_type": "code",
   "execution_count": null,
   "metadata": {},
   "outputs": [],
   "source": [
    "ag = ImageAugmentationRandom(method=['rain'], N=3)\n"
   ]
  },
  {
   "cell_type": "code",
   "execution_count": null,
   "metadata": {},
   "outputs": [],
   "source": [
    "ag.__dict__"
   ]
  },
  {
   "cell_type": "code",
   "execution_count": null,
   "metadata": {},
   "outputs": [],
   "source": [
    "ag.apply('Dolby/balanced_old_810', 'rain')"
   ]
  },
  {
   "cell_type": "code",
   "execution_count": null,
   "metadata": {},
   "outputs": [],
   "source": []
  }
 ],
 "metadata": {
  "kernelspec": {
   "display_name": "Python 3",
   "language": "python",
   "name": "python3"
  },
  "language_info": {
   "codemirror_mode": {
    "name": "ipython",
    "version": 3
   },
   "file_extension": ".py",
   "mimetype": "text/x-python",
   "name": "python",
   "nbconvert_exporter": "python",
   "pygments_lexer": "ipython3",
   "version": "3.6.8"
  }
 },
 "nbformat": 4,
 "nbformat_minor": 2
}
